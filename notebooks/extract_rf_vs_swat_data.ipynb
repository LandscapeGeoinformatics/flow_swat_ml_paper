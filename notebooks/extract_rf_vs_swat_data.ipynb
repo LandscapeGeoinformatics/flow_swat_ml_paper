{
 "cells": [
  {
   "cell_type": "code",
   "execution_count": 1,
   "id": "f0b704c3-d7a0-4588-8738-c15e6de4c58e",
   "metadata": {},
   "outputs": [],
   "source": [
    "import sys\n",
    "import os\n",
    "\n",
    "module_path = os.path.abspath(os.path.join('..'))\n",
    "if module_path not in sys.path:\n",
    "    sys.path.append(os.path.join(module_path, 'scripts'))"
   ]
  },
  {
   "cell_type": "code",
   "execution_count": 2,
   "id": "63eca58e-8032-42c1-a64d-f26199d9e3ec",
   "metadata": {},
   "outputs": [],
   "source": [
    "import importlib\n",
    "\n",
    "import matplotlib.pyplot as plt\n",
    "import numpy as np\n",
    "import pandas as pd\n",
    "import seaborn as sns\n",
    "\n",
    "sns.set_theme()\n",
    "\n",
    "import utils"
   ]
  },
  {
   "cell_type": "code",
   "execution_count": 3,
   "id": "196163b9-797d-4783-8742-5ad109f06c20",
   "metadata": {},
   "outputs": [],
   "source": [
    "utils.set_project_dir()"
   ]
  },
  {
   "cell_type": "code",
   "execution_count": 4,
   "id": "9e3c2ed7-b26d-4e21-8841-d7d72118fbed",
   "metadata": {},
   "outputs": [
    {
     "data": {
      "text/plain": [
       "'\\\\\\\\export.hpc.ut.ee\\\\gis\\\\flow_swat_ml_paper'"
      ]
     },
     "execution_count": 4,
     "metadata": {},
     "output_type": "execute_result"
    }
   ],
   "source": [
    "os.getcwd()"
   ]
  },
  {
   "cell_type": "code",
   "execution_count": 5,
   "id": "d5966d27-4296-4b0a-8571-daeb86b31fcf",
   "metadata": {},
   "outputs": [
    {
     "name": "stderr",
     "output_type": "stream",
     "text": [
      "the 'encoding' keyword is deprecated and will be removed in a future version. Please take steps to stop the use of 'encoding'\n",
      "the 'encoding' keyword is deprecated and will be removed in a future version. Please take steps to stop the use of 'encoding'\n",
      "the 'encoding' keyword is deprecated and will be removed in a future version. Please take steps to stop the use of 'encoding'\n",
      "the 'encoding' keyword is deprecated and will be removed in a future version. Please take steps to stop the use of 'encoding'\n"
     ]
    }
   ],
   "source": [
    "country_codes = ['ESP', 'EST', 'ETH', 'USA']\n",
    "time_interval = 'd'\n",
    "target = f'Q_{time_interval}+1'\n",
    "feat_set = f'FS3_{time_interval}'\n",
    "test_size = 0.5\n",
    "test_size_int = int(test_size * 100)\n",
    "\n",
    "# Read RF metrics\n",
    "rf_metrics = pd.read_csv(f'ml/{target}_rf_metrics.csv')\n",
    "\n",
    "# Output Excel file\n",
    "out_fp = f'ml/{target}_{feat_set}_rf_vs_swat.xlsx'\n",
    "if os.path.exists(out_fp):\n",
    "    os.remove(out_fp)\n",
    "\n",
    "for i in range(len(country_codes)):\n",
    "\n",
    "    country_code = country_codes[i]\n",
    "\n",
    "    # Read SWAT results\n",
    "    excel_file = 'swat/SWAT_results.xlsx'\n",
    "    sheet_name = f'{country_code}_{time_interval.upper()}'\n",
    "    swat_results = pd.read_excel(excel_file, sheet_name=sheet_name)\n",
    "    swat_results = swat_results.rename(\n",
    "        columns={swat_results.columns[0]: 'Date', swat_results.columns[1]: 'Observed', swat_results.columns[2]: 'SWAT'}\n",
    "    )\n",
    "\n",
    "    # Shift by one day to match with RF time series\n",
    "    swat_results['SWAT'] = swat_results['SWAT'].shift(-1)\n",
    "    swat_results['Observed'] = swat_results['Observed'].shift(-1)\n",
    "\n",
    "    model_dir = utils.get_model_dir(country_code, target, feat_set)\n",
    "\n",
    "    # Get indices of training samples\n",
    "    train_indices = pd.read_csv(\n",
    "        f'{model_dir}/{country_code}_{target}_{feat_set}_feat_train_{test_size_int}.csv', usecols=['Index']\n",
    "    )['Index'].values\n",
    "\n",
    "    # Get indices of test samples\n",
    "    test_indices = pd.read_csv(\n",
    "        f'{model_dir}/{country_code}_{target}_{feat_set}_feat_test_{test_size_int}.csv', usecols=['Index']\n",
    "    )['Index'].values\n",
    "\n",
    "    # Read RF results\n",
    "    obs_vs_pred = pd.read_csv(f'{model_dir}/{country_code}_{target}_{feat_set}_obs_vs_pred_{test_size_int}.csv', parse_dates=['Date'])\n",
    "    obs_vs_pred['Index'] = obs_vs_pred.index\n",
    "\n",
    "    # Training set\n",
    "    start_train, end_train = utils.get_train_period(country_code)\n",
    "    obs_vs_pred_train = obs_vs_pred.loc[(start_train <= obs_vs_pred['Date']) & (obs_vs_pred['Date'] <= end_train)]\n",
    "    obs_vs_pred_train = obs_vs_pred_train.merge(swat_results, how='inner', on='Date')\n",
    "    obs_vs_pred_train = obs_vs_pred_train.set_index('Date')\n",
    "\n",
    "    # Test set\n",
    "    start_test, end_test = utils.get_test_period(country_code)\n",
    "    obs_vs_pred_test = obs_vs_pred.loc[(start_test <= obs_vs_pred['Date']) & (obs_vs_pred['Date'] <= end_test)]\n",
    "    obs_vs_pred_test = obs_vs_pred_test.merge(swat_results, how='inner', on='Date')\n",
    "    obs_vs_pred_test = obs_vs_pred_test.set_index('Date')\n",
    "    \n",
    "    # Write to Excel file\n",
    "    if not os.path.exists(out_fp):\n",
    "        with pd.ExcelWriter(out_fp) as writer:\n",
    "            obs_vs_pred_train.to_excel(writer, sheet_name=f'{country_code}_train', encoding='utf-8')\n",
    "            obs_vs_pred_test.to_excel(writer, sheet_name=f'{country_code}_test', encoding='utf-8')\n",
    "    else:\n",
    "        with pd.ExcelWriter(out_fp, mode='a') as writer:\n",
    "            obs_vs_pred_train.to_excel(writer, sheet_name=f'{country_code}_train', encoding='utf-8')\n",
    "            obs_vs_pred_test.to_excel(writer, sheet_name=f'{country_code}_test', encoding='utf-8')"
   ]
  }
 ],
 "metadata": {
  "kernelspec": {
   "display_name": "hydro",
   "language": "python",
   "name": "hydro"
  },
  "language_info": {
   "codemirror_mode": {
    "name": "ipython",
    "version": 3
   },
   "file_extension": ".py",
   "mimetype": "text/x-python",
   "name": "python",
   "nbconvert_exporter": "python",
   "pygments_lexer": "ipython3",
   "version": "3.10.6"
  }
 },
 "nbformat": 4,
 "nbformat_minor": 5
}
